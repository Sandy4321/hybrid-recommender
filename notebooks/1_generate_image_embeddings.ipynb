{
 "cells": [
  {
   "cell_type": "markdown",
   "metadata": {},
   "source": [
    "# 1 - Image Embeddings"
   ]
  },
  {
   "cell_type": "code",
   "execution_count": 1,
   "metadata": {},
   "outputs": [],
   "source": [
    "import pandas as pd\n",
    "import requests\n",
    "import re\n",
    "import os\n",
    "import glob\n",
    "import numpy as np\n",
    "\n",
    "from tensorflow.keras.applications.vgg16 import VGG16, preprocess_input\n",
    "from tensorflow.keras.models import Model\n",
    "from tensorflow.keras.preprocessing import image"
   ]
  },
  {
   "cell_type": "markdown",
   "metadata": {},
   "source": [
    "### Create VGG16 model"
   ]
  },
  {
   "cell_type": "code",
   "execution_count": 2,
   "metadata": {},
   "outputs": [],
   "source": [
    "base_model = VGG16(weights='imagenet')\n",
    "model = Model(inputs=base_model.input, outputs=base_model.get_layer('fc2').output)\n",
    "image_size = (224, 224)"
   ]
  },
  {
   "cell_type": "markdown",
   "metadata": {},
   "source": [
    "### Generate image embeddings"
   ]
  },
  {
   "cell_type": "code",
   "execution_count": 3,
   "metadata": {},
   "outputs": [
    {
     "name": "stdout",
     "output_type": "stream",
     "text": [
      "Processed image: 0\n",
      "Processed image: 100\n",
      "Processed image: 200\n",
      "Processed image: 300\n",
      "Processed image: 400\n",
      "Processed image: 500\n",
      "Processed image: 600\n",
      "Processed image: 700\n",
      "Processed image: 800\n",
      "Processed image: 900\n",
      "Processed image: 1000\n",
      "Processed image: 1100\n",
      "Processed image: 1200\n"
     ]
    }
   ],
   "source": [
    "filenames = glob.glob('../data/images/*jpg')\n",
    "\n",
    "features = []\n",
    "item_id = []\n",
    "\n",
    "for i, filename in enumerate(filenames):\n",
    "    try:\n",
    "        img = image.load_img(filename, target_size=image_size)\n",
    "        x = image.img_to_array(img)\n",
    "        x = np.expand_dims(x, axis=0)\n",
    "        x = preprocess_input(x)\n",
    "\n",
    "        # extract features  \n",
    "        feature = model.predict(x)\n",
    "        flat = feature.flatten()\n",
    "        features.append(flat)\n",
    "        item_id.append(filename.split('/')[-1].split('.')[0])\n",
    "    except:\n",
    "        continue\n",
    "    if i % 100 == 0:\n",
    "        print (\"Processed image: \" + str(i))"
   ]
  },
  {
   "cell_type": "code",
   "execution_count": 4,
   "metadata": {},
   "outputs": [
    {
     "data": {
      "text/html": [
       "<div>\n",
       "<style scoped>\n",
       "    .dataframe tbody tr th:only-of-type {\n",
       "        vertical-align: middle;\n",
       "    }\n",
       "\n",
       "    .dataframe tbody tr th {\n",
       "        vertical-align: top;\n",
       "    }\n",
       "\n",
       "    .dataframe thead th {\n",
       "        text-align: right;\n",
       "    }\n",
       "</style>\n",
       "<table border=\"1\" class=\"dataframe\">\n",
       "  <thead>\n",
       "    <tr style=\"text-align: right;\">\n",
       "      <th></th>\n",
       "      <th>image_features</th>\n",
       "      <th>item_id</th>\n",
       "    </tr>\n",
       "  </thead>\n",
       "  <tbody>\n",
       "    <tr>\n",
       "      <th>0</th>\n",
       "      <td>[0.0, 0.0, 0.0, 1.210973, 0.0, 0.0, 2.1445055,...</td>\n",
       "      <td>433</td>\n",
       "    </tr>\n",
       "    <tr>\n",
       "      <th>1</th>\n",
       "      <td>[0.0, 0.88430643, 0.51349455, 0.0, 0.0, 7.3472...</td>\n",
       "      <td>175</td>\n",
       "    </tr>\n",
       "    <tr>\n",
       "      <th>2</th>\n",
       "      <td>[0.0, 0.0, 1.5304266, 0.29221326, 0.0, 0.0, 0....</td>\n",
       "      <td>510</td>\n",
       "    </tr>\n",
       "    <tr>\n",
       "      <th>3</th>\n",
       "      <td>[0.14858103, 0.0, 0.0, 0.0, 0.0, 0.0, 0.0, 0.0...</td>\n",
       "      <td>27</td>\n",
       "    </tr>\n",
       "    <tr>\n",
       "      <th>4</th>\n",
       "      <td>[0.0, 0.0, 1.5763377, 0.0, 0.0, 5.456106, 0.0,...</td>\n",
       "      <td>793</td>\n",
       "    </tr>\n",
       "    <tr>\n",
       "      <th>...</th>\n",
       "      <td>...</td>\n",
       "      <td>...</td>\n",
       "    </tr>\n",
       "    <tr>\n",
       "      <th>1231</th>\n",
       "      <td>[1.8058506, 4.474393, 0.0, 0.0, 0.18054026, 0....</td>\n",
       "      <td>252</td>\n",
       "    </tr>\n",
       "    <tr>\n",
       "      <th>1232</th>\n",
       "      <td>[0.0, 0.0, 0.0, 0.0, 0.0, 0.34754306, 0.0, 0.0...</td>\n",
       "      <td>727</td>\n",
       "    </tr>\n",
       "    <tr>\n",
       "      <th>1233</th>\n",
       "      <td>[3.2949443, 0.9603162, 0.0, 0.0, 0.0, 0.0, 0.0...</td>\n",
       "      <td>365</td>\n",
       "    </tr>\n",
       "    <tr>\n",
       "      <th>1234</th>\n",
       "      <td>[0.0, 0.0, 0.16038784, 0.0, 0.0, 3.285229, 0.0...</td>\n",
       "      <td>611</td>\n",
       "    </tr>\n",
       "    <tr>\n",
       "      <th>1235</th>\n",
       "      <td>[0.0, 0.45094898, 0.0, 0.0, 0.0, 0.8388814, 0....</td>\n",
       "      <td>76</td>\n",
       "    </tr>\n",
       "  </tbody>\n",
       "</table>\n",
       "<p>1236 rows × 2 columns</p>\n",
       "</div>"
      ],
      "text/plain": [
       "                                         image_features item_id\n",
       "0     [0.0, 0.0, 0.0, 1.210973, 0.0, 0.0, 2.1445055,...     433\n",
       "1     [0.0, 0.88430643, 0.51349455, 0.0, 0.0, 7.3472...     175\n",
       "2     [0.0, 0.0, 1.5304266, 0.29221326, 0.0, 0.0, 0....     510\n",
       "3     [0.14858103, 0.0, 0.0, 0.0, 0.0, 0.0, 0.0, 0.0...      27\n",
       "4     [0.0, 0.0, 1.5763377, 0.0, 0.0, 5.456106, 0.0,...     793\n",
       "...                                                 ...     ...\n",
       "1231  [1.8058506, 4.474393, 0.0, 0.0, 0.18054026, 0....     252\n",
       "1232  [0.0, 0.0, 0.0, 0.0, 0.0, 0.34754306, 0.0, 0.0...     727\n",
       "1233  [3.2949443, 0.9603162, 0.0, 0.0, 0.0, 0.0, 0.0...     365\n",
       "1234  [0.0, 0.0, 0.16038784, 0.0, 0.0, 3.285229, 0.0...     611\n",
       "1235  [0.0, 0.45094898, 0.0, 0.0, 0.0, 0.8388814, 0....      76\n",
       "\n",
       "[1236 rows x 2 columns]"
      ]
     },
     "execution_count": 4,
     "metadata": {},
     "output_type": "execute_result"
    }
   ],
   "source": [
    "items = pd.DataFrame({'item_id': item_id, 'image_features': features})\n",
    "items"
   ]
  },
  {
   "cell_type": "markdown",
   "metadata": {},
   "source": [
    "### Serialize VGG16 embeddings"
   ]
  },
  {
   "cell_type": "code",
   "execution_count": 5,
   "metadata": {},
   "outputs": [],
   "source": [
    "out_path = '../data/image_vecs_vgg16.pkl'\n",
    "\n",
    "items.to_pickle(out_path)"
   ]
  }
 ],
 "metadata": {
  "kernelspec": {
   "display_name": "Python 3.5",
   "language": "python",
   "name": "python3"
  },
  "language_info": {
   "codemirror_mode": {
    "name": "ipython",
    "version": 3
   },
   "file_extension": ".py",
   "mimetype": "text/x-python",
   "name": "python",
   "nbconvert_exporter": "python",
   "pygments_lexer": "ipython3",
   "version": "3.5.6"
  }
 },
 "nbformat": 4,
 "nbformat_minor": 2
}
